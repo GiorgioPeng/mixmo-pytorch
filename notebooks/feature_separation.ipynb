{
 "cells": [
  {
   "cell_type": "markdown",
   "metadata": {},
   "source": [
    "# Preparation\n",
    "### Setup your own variables"
   ]
  },
  {
   "cell_type": "code",
   "execution_count": 1,
   "metadata": {},
   "outputs": [],
   "source": [
    "import os\n",
    "os.environ[\"CUDA_VISIBLE_DEVICES\"] = str(0) # which gpu\n",
    "workplace = os.path.join(os.environ[\"HOME\"], \"mixmo-pytorch\") # where is your code\n",
    "checkpointplace = os.path.join(os.environ[\"HOME\"], \"checkpoints\") # where are your checkpoints\n",
    "dataplace = \"/data\" # parent folder where is your cifar-100 dataset"
   ]
  },
  {
   "cell_type": "markdown",
   "metadata": {},
   "source": [
    "### Import standard librairies and mixmo\n"
   ]
  },
  {
   "cell_type": "code",
   "execution_count": 2,
   "metadata": {},
   "outputs": [],
   "source": [
    "import warnings\n",
    "warnings.filterwarnings('ignore', category=FutureWarning)\n",
    "import torch\n",
    "import matplotlib.pyplot as plt\n",
    "import numpy as np\n",
    "\n",
    "import sys\n",
    "sys.path.append(workplace)\n",
    "from mixmo.loaders import get_loader\n",
    "from mixmo.learners.learner import Learner\n",
    "from mixmo.utils import (misc, visualize)"
   ]
  },
  {
   "cell_type": "markdown",
   "metadata": {},
   "source": [
    "# Load pretrained networks\n",
    "\n",
    "## Set configuration\n",
    "\n",
    "CIFAR-100 dataset with:\n",
    "- WideResNet-28-10 network architecture\n",
    "- `M=2` subnetworks\n",
    "- Cut-MixMo mixing block (patch mixing) with probability `p=0.5`\n",
    "- Standard data augmentation (padding, cropping, flipping)\n",
    "- batch repetition to `b=4`"
   ]
  },
  {
   "cell_type": "code",
   "execution_count": 3,
   "metadata": {},
   "outputs": [],
   "source": [
    "config_name = \"cifar100_wrn2810-2_cutmixmo-p5_standard_bar4\""
   ]
  },
  {
   "cell_type": "markdown",
   "metadata": {},
   "source": [
    "We simply need to form a proper config dictionary and the correct checkpoint path"
   ]
  },
  {
   "cell_type": "code",
   "execution_count": 4,
   "metadata": {},
   "outputs": [],
   "source": [
    "# path to the config describing the dataset, the learning strategy and the network \n",
    "config_path = os.path.join(\n",
    "    workplace,\n",
    "    \"config/cifar100/exp_\"+ config_name + \".yaml\"\n",
    ")\n",
    "config_args = misc.load_config_yaml(config_path)"
   ]
  },
  {
   "cell_type": "markdown",
   "metadata": {},
   "source": [
    "[Checkpoint](https://drive.google.com/file/d/1vxJFKuO5RSH9XcA2aSYUMHCrtD6pDyMA/view?usp=sharing) to be downloaded in folder `checkpointplace`"
   ]
  },
  {
   "cell_type": "code",
   "execution_count": 5,
   "metadata": {},
   "outputs": [],
   "source": [
    "# path to the pretrained checkpoint\n",
    "checkpoint = os.path.join(checkpointplace, \"checkpoint_\"+ config_name + \".ckpt\")"
   ]
  },
  {
   "cell_type": "code",
   "execution_count": 6,
   "metadata": {},
   "outputs": [],
   "source": [
    "# additional arguments\n",
    "device = torch.device(\"cuda\" if torch.cuda.is_available() else \"cpu\")\n",
    "tempscale = False\n",
    "corruptions = False"
   ]
  },
  {
   "cell_type": "markdown",
   "metadata": {},
   "source": [
    "## Load dataset\n",
    "\n",
    "We load the dataset through a dloader object that takes care of the data loading, augmentation and input formatting steps"
   ]
  },
  {
   "cell_type": "code",
   "execution_count": 7,
   "metadata": {
    "scrolled": true
   },
   "outputs": [
    {
     "name": "stdout",
     "output_type": "stream",
     "text": [
      "Files already downloaded and verified\n",
      "Files already downloaded and verified\n"
     ]
    },
    {
     "name": "stderr",
     "output_type": "stream",
     "text": [
      "2021-04-07 11:06:03,105 pascal mixmo.loaders.abstract_loader[3854932] WARNING No validation loader\n"
     ]
    }
   ],
   "source": [
    "dloader = get_loader(\n",
    "    config_args, split_test_val=tempscale, dataplace=dataplace, corruptions=corruptions\n",
    ")"
   ]
  },
  {
   "cell_type": "markdown",
   "metadata": {},
   "source": [
    "## Load learner\n",
    "\n",
    "We now build the learner object that wraps both the model, optimizer and the already built loader objects. Training is performed through methods of this learner object."
   ]
  },
  {
   "cell_type": "code",
   "execution_count": 8,
   "metadata": {},
   "outputs": [
    {
     "name": "stderr",
     "output_type": "stream",
     "text": [
      "2021-04-07 11:06:03,112 pascal mixmo.networks[3854932] WARNING Loading network: wideresnetmixmo\n",
      "2021-04-07 11:06:15,121 pascal mixmo.networks.resnet[3854932] WARNING Features dimension: 640\n",
      "2021-04-07 11:06:17,680 pascal mixmo.core.loss[3854932] INFO Using loss: {'name': 'soft_cross_entropy', 'display_name': 'ce0', 'coeff': 1, 'input': 'logits_0', 'target': 'target_0'} with name: ce0\n",
      "2021-04-07 11:06:17,681 pascal mixmo.core.loss[3854932] INFO Using loss: {'name': 'soft_cross_entropy', 'display_name': 'ce1', 'coeff': 1.0, 'input': 'logits_1', 'target': 'target_1'} with name: ce1\n",
      "2021-04-07 11:06:17,682 pascal mixmo.core.loss[3854932] DEBUG Skip loss: {'name': 'soft_cross_entropy', 'display_name': 'ce2', 'coeff': 0, 'input': 'logits_2', 'target': 'target_2'}\n",
      "2021-04-07 11:06:17,683 pascal mixmo.core.loss[3854932] WARNING Set l2 regularization on WideResNetMixMo\n",
      "2021-04-07 11:06:17,684 pascal mixmo.core.optimizer[3854932] INFO Using optimizer sgd with params {'lr': 0.0125, 'momentum': 0.9, 'weight_decay': 0, 'nesterov': True}\n"
     ]
    },
    {
     "name": "stdout",
     "output_type": "stream",
     "text": [
      "----------------------------------------------------------------\n",
      "        Layer (type)               Output Shape         Param #\n",
      "================================================================\n",
      "            Conv2d-1            [2, 16, 32, 32]             432\n",
      "            Conv2d-2            [2, 16, 32, 32]             432\n",
      "       BatchNorm2d-3            [2, 16, 32, 32]              32\n",
      "            Conv2d-4           [2, 160, 32, 32]          23,040\n",
      "       BatchNorm2d-5           [2, 160, 32, 32]             320\n",
      "            Conv2d-6           [2, 160, 32, 32]         230,400\n",
      "            Conv2d-7           [2, 160, 32, 32]           2,560\n",
      "         WideBasic-8           [2, 160, 32, 32]               0\n",
      "       BatchNorm2d-9           [2, 160, 32, 32]             320\n",
      "           Conv2d-10           [2, 160, 32, 32]         230,400\n",
      "      BatchNorm2d-11           [2, 160, 32, 32]             320\n",
      "           Conv2d-12           [2, 160, 32, 32]         230,400\n",
      "        WideBasic-13           [2, 160, 32, 32]               0\n",
      "      BatchNorm2d-14           [2, 160, 32, 32]             320\n",
      "           Conv2d-15           [2, 160, 32, 32]         230,400\n",
      "      BatchNorm2d-16           [2, 160, 32, 32]             320\n",
      "           Conv2d-17           [2, 160, 32, 32]         230,400\n",
      "        WideBasic-18           [2, 160, 32, 32]               0\n",
      "      BatchNorm2d-19           [2, 160, 32, 32]             320\n",
      "           Conv2d-20           [2, 160, 32, 32]         230,400\n",
      "      BatchNorm2d-21           [2, 160, 32, 32]             320\n",
      "           Conv2d-22           [2, 160, 32, 32]         230,400\n",
      "        WideBasic-23           [2, 160, 32, 32]               0\n",
      "      BatchNorm2d-24           [2, 160, 32, 32]             320\n",
      "           Conv2d-25           [2, 320, 32, 32]         460,800\n",
      "      BatchNorm2d-26           [2, 320, 32, 32]             640\n",
      "        ZeroPad2d-27           [2, 320, 33, 33]               0\n",
      "           Conv2d-28           [2, 320, 16, 16]         921,600\n",
      "           Conv2d-29           [2, 320, 16, 16]          51,200\n",
      "        WideBasic-30           [2, 320, 16, 16]               0\n",
      "      BatchNorm2d-31           [2, 320, 16, 16]             640\n",
      "           Conv2d-32           [2, 320, 16, 16]         921,600\n",
      "      BatchNorm2d-33           [2, 320, 16, 16]             640\n",
      "           Conv2d-34           [2, 320, 16, 16]         921,600\n",
      "        WideBasic-35           [2, 320, 16, 16]               0\n",
      "      BatchNorm2d-36           [2, 320, 16, 16]             640\n",
      "           Conv2d-37           [2, 320, 16, 16]         921,600\n",
      "      BatchNorm2d-38           [2, 320, 16, 16]             640\n",
      "           Conv2d-39           [2, 320, 16, 16]         921,600\n",
      "        WideBasic-40           [2, 320, 16, 16]               0\n",
      "      BatchNorm2d-41           [2, 320, 16, 16]             640\n",
      "           Conv2d-42           [2, 320, 16, 16]         921,600\n",
      "      BatchNorm2d-43           [2, 320, 16, 16]             640\n",
      "           Conv2d-44           [2, 320, 16, 16]         921,600\n",
      "        WideBasic-45           [2, 320, 16, 16]               0\n",
      "      BatchNorm2d-46           [2, 320, 16, 16]             640\n",
      "           Conv2d-47           [2, 640, 16, 16]       1,843,200\n",
      "      BatchNorm2d-48           [2, 640, 16, 16]           1,280\n",
      "        ZeroPad2d-49           [2, 640, 17, 17]               0\n",
      "           Conv2d-50             [2, 640, 8, 8]       3,686,400\n",
      "           Conv2d-51             [2, 640, 8, 8]         204,800\n",
      "        WideBasic-52             [2, 640, 8, 8]               0\n",
      "      BatchNorm2d-53             [2, 640, 8, 8]           1,280\n",
      "           Conv2d-54             [2, 640, 8, 8]       3,686,400\n",
      "      BatchNorm2d-55             [2, 640, 8, 8]           1,280\n",
      "           Conv2d-56             [2, 640, 8, 8]       3,686,400\n",
      "        WideBasic-57             [2, 640, 8, 8]               0\n",
      "      BatchNorm2d-58             [2, 640, 8, 8]           1,280\n",
      "           Conv2d-59             [2, 640, 8, 8]       3,686,400\n",
      "      BatchNorm2d-60             [2, 640, 8, 8]           1,280\n",
      "           Conv2d-61             [2, 640, 8, 8]       3,686,400\n",
      "        WideBasic-62             [2, 640, 8, 8]               0\n",
      "      BatchNorm2d-63             [2, 640, 8, 8]           1,280\n",
      "           Conv2d-64             [2, 640, 8, 8]       3,686,400\n",
      "      BatchNorm2d-65             [2, 640, 8, 8]           1,280\n",
      "           Conv2d-66             [2, 640, 8, 8]       3,686,400\n",
      "        WideBasic-67             [2, 640, 8, 8]               0\n",
      "      BatchNorm2d-68             [2, 640, 8, 8]           1,280\n",
      "AdaptiveAvgPool2d-69             [2, 640, 1, 1]               0\n",
      "           Linear-70                   [2, 100]          64,100\n",
      "           Linear-71                   [2, 100]          64,100\n",
      "================================================================\n",
      "Total params: 36,601,416\n",
      "Trainable params: 36,601,416\n",
      "Non-trainable params: 0\n",
      "----------------------------------------------------------------\n",
      "Input size (MB): 0.05\n",
      "Forward/backward pass size (MB): 112.03\n",
      "Params size (MB): 139.62\n",
      "Estimated Total Size (MB): 251.70\n",
      "----------------------------------------------------------------\n"
     ]
    }
   ],
   "source": [
    "learner = Learner(\n",
    "    config_args=config_args,\n",
    "    dloader=dloader,\n",
    "    device=device,\n",
    ")"
   ]
  },
  {
   "cell_type": "markdown",
   "metadata": {},
   "source": [
    "## Load checkpoint"
   ]
  },
  {
   "cell_type": "code",
   "execution_count": 9,
   "metadata": {},
   "outputs": [],
   "source": [
    "learner.load_checkpoint(checkpoint, include_optimizer=False)"
   ]
  },
  {
   "cell_type": "markdown",
   "metadata": {},
   "source": [
    "# Observing feature separation\n",
    "\n",
    "## Checking separation of filter weights in input encoders\n",
    "\n",
    "We start by retrieving the weights of the network and only keeping the filter weights of the two input encoders"
   ]
  },
  {
   "cell_type": "code",
   "execution_count": 10,
   "metadata": {},
   "outputs": [],
   "source": [
    "# select all parameters\n",
    "list_parameters = list(learner.model_wrapper.network.named_parameters())\n",
    "\n",
    "# filter only first convolution layers\n",
    "list_conv1_weights = [\n",
    "    params[1] for params in list_parameters\n",
    "    if \"conv\" in params[0] and \"weight\" in params[0] and 'list_conv1' in params[0]]\n",
    "assert len(list_conv1_weights) == 2\n",
    "\n",
    "# compute the L1 norm by filter\n",
    "list_conv1_l1 = [conv1_weights.data.cpu().abs().sum(dim=(1,2,3)).view(-1) for conv1_weights in list_conv1_weights]"
   ]
  },
  {
   "cell_type": "markdown",
   "metadata": {},
   "source": [
    "We can then just retrieve the L1-norm of the conv1 filters and plot them, cf Figure 4.a in paper"
   ]
  },
  {
   "cell_type": "code",
   "execution_count": 11,
   "metadata": {},
   "outputs": [
    {
     "data": {
      "image/png": "[encoded data removed]",
      "text/plain": [
       "<Figure size 432x280.8 with 1 Axes>"
      ]
     },
     "metadata": {
      "needs_background": "light"
     },
     "output_type": "display_data"
    }
   ],
   "source": [
    "fig, ax1 = plt.subplots(nrows=1, ncols=1, sharex=True, sharey=False, figsize=(6, 3.9))\n",
    "colors = [\"indianred\", \"gold\"]\n",
    "for k in range(2):\n",
    "    var_activations = list_conv1_l1[k]\n",
    "    ax1.bar([i for i in range(16)], var_activations, alpha=.5, label=\"Encoder $c_{}$\".format(k), color=colors[k])\n",
    "    \n",
    "var_min = [min(list_conv1_l1[0][i], list_conv1_l1[1][i]) for i in range(16)]\n",
    "ax1.bar([i for i in range(16)], var_min, alpha=1, color=\"darkorange\")\n",
    " \n",
    "ax1.tick_params(axis='both', which='major', labelsize=\"xx-large\")\n",
    "ax1.set_xlabel(\"Channel\", fontsize=\"xx-large\")\n",
    "ax1.set_yticks([0, 2, 4, 6])\n",
    "ax1.set_ylabel(\"Filter Norm\", fontsize=\"xx-large\")\n",
    "ax1.legend(prop={'size':\"xx-large\"}, loc='lower right')\n",
    "\n",
    "plt.tight_layout()\n",
    "plt.show()"
   ]
  },
  {
   "cell_type": "markdown",
   "metadata": {},
   "source": [
    "## Checking overall weights in the core network\n",
    "\n",
    "It is also possible to check how many of the filter are \"active\" in the core layers of the model, with \"active\" simply denoting filters with fairly significant L1-norm in their layers. We consider threshold 20, 30, 40 and 50% in the main paper."
   ]
  },
  {
   "cell_type": "code",
   "execution_count": 12,
   "metadata": {},
   "outputs": [],
   "source": [
    "# filter only convolution layers in core network\n",
    "list_convlayer_weights = [\n",
    "    params[1] for params in list_parameters\n",
    "    if \"conv\" in params[0] and \"weight\" in params[0] and 'list_conv1' not in params[0]\n",
    "]\n",
    "# compute the L1 norm by filter\n",
    "list_convlayer_l1_byfilter = [convlayer_weights.data.cpu().abs().sum(dim=(1,2,3)).view(-1) for convlayer_weights in list_convlayer_weights]"
   ]
  },
  {
   "cell_type": "markdown",
   "metadata": {},
   "source": [
    "We compute the proportion of active filters at several activity thresholds, cf Table 7 in paper with Cut-MixMo and w=10"
   ]
  },
  {
   "cell_type": "code",
   "execution_count": 13,
   "metadata": {},
   "outputs": [
    {
     "name": "stdout",
     "output_type": "stream",
     "text": [
      "Active beyond threshold 0.2: 98.46%\n",
      "Active beyond threshold 0.3: 98.16%\n",
      "Active beyond threshold 0.4: 96.82%\n",
      "Active beyond threshold 0.5: 92.38%\n"
     ]
    }
   ],
   "source": [
    "list_convlayer_norm_byfilter = [convlayer_l1/convlayer_l1.max() for convlayer_l1 in list_convlayer_l1_byfilter]\n",
    "for threshold in [0.2, 0.3, 0.4, 0.5]:\n",
    "    prop = np.mean([(convlayer_norm>threshold).float().mean().numpy() for convlayer_norm in list_convlayer_norm_byfilter])\n",
    "    print(f\"Active beyond threshold {threshold}: {prop*100:.4}%\")"
   ]
  }
 ],
 "metadata": {
  "kernelspec": {
   "display_name": "Python ensembling",
   "language": "python",
   "name": "ensembling"
  },
  "language_info": {
   "codemirror_mode": {
    "name": "ipython",
    "version": 3
   },
   "file_extension": ".py",
   "mimetype": "text/x-python",
   "name": "python",
   "nbconvert_exporter": "python",
   "pygments_lexer": "ipython3",
   "version": "3.6.10"
  }
 },
 "nbformat": 4,
 "nbformat_minor": 4
}
