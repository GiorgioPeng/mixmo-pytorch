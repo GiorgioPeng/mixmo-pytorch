{
 "cells": [
  {
   "cell_type": "markdown",
   "metadata": {},
   "source": [
    "# Preparation\n",
    "### Setup your own variables"
   ]
  },
  {
   "cell_type": "code",
   "execution_count": 1,
   "metadata": {},
   "outputs": [],
   "source": [
    "import os\n",
    "os.environ[\"CUDA_VISIBLE_DEVICES\"] = str(0) # which gpu\n",
    "workplace = os.path.join(os.environ[\"HOME\"], \"mixmo-pytorch\") # where is your code\n",
    "checkpointplace = os.path.join(os.environ[\"HOME\"], \"checkpoints\") # where are your checkpoints\n",
    "dataplace = \"/data\" # parent folder where is your cifar-100 dataset"
   ]
  },
  {
   "cell_type": "markdown",
   "metadata": {},
   "source": [
    "### Import standard librairies and mixmo"
   ]
  },
  {
   "cell_type": "code",
   "execution_count": 2,
   "metadata": {},
   "outputs": [],
   "source": [
    "import warnings\n",
    "warnings.filterwarnings('ignore', category=FutureWarning)\n",
    "import torch\n",
    "\n",
    "import sys\n",
    "sys.path.append(workplace)\n",
    "from mixmo.loaders import get_loader\n",
    "from mixmo.learners.learner import Learner\n",
    "from mixmo.utils import (misc, visualize)"
   ]
  },
  {
   "cell_type": "markdown",
   "metadata": {},
   "source": [
    "# Load pretrained networks\n",
    "\n",
    "## Set configuration\n",
    "\n",
    "CIFAR-100 dataset with:\n",
    "- WideResNet-28-10 network architecture\n",
    "- `M=2` subnetworks\n",
    "- Cut-MixMo mixing block (patch mixing) with probability `p=0.5`\n",
    "- CutMix mixed sample data augmentation\n",
    "- batch repetition to `b=4`"
   ]
  },
  {
   "cell_type": "code",
   "execution_count": 3,
   "metadata": {},
   "outputs": [],
   "source": [
    "config_name = \"cifar100_wrn2810-2_cutmixmo-p5_msdacutmix_bar4\""
   ]
  },
  {
   "cell_type": "code",
   "execution_count": 4,
   "metadata": {},
   "outputs": [],
   "source": [
    "# path to the config describing the dataset, the learning strategy and the network \n",
    "config_path = os.path.join(\n",
    "    workplace,\n",
    "    \"config/cifar100/exp_\"+ config_name + \".yaml\"\n",
    ")\n",
    "config_args = misc.load_config_yaml(config_path)\n",
    "# additional arguments\n",
    "device = torch.device(\"cuda\" if torch.cuda.is_available() else \"cpu\")\n",
    "tempscale = False\n",
    "corruptions = False"
   ]
  },
  {
   "cell_type": "markdown",
   "metadata": {},
   "source": [
    "[Checkpoint](https://drive.google.com/file/d/1fwCfO2wO6VXziUp9HHE32MpCWak9AlOc/view?usp=sharing) to be downloaded in folder `checkpointplace`"
   ]
  },
  {
   "cell_type": "code",
   "execution_count": 5,
   "metadata": {},
   "outputs": [],
   "source": [
    "# path to the pretrained checkpoint\n",
    "checkpoint = os.path.join(checkpointplace, \"checkpoint_\"+ config_name + \".ckpt\")"
   ]
  },
  {
   "cell_type": "code",
   "execution_count": 6,
   "metadata": {},
   "outputs": [],
   "source": [
    "# additional arguments\n",
    "device = torch.device(\"cuda\" if torch.cuda.is_available() else \"cpu\")\n",
    "tempscale = False\n",
    "corruptions = False"
   ]
  },
  {
   "cell_type": "markdown",
   "metadata": {},
   "source": [
    "## Load dataset\n",
    "\n",
    "We load the dataset through a dloader object that takes care of the data loading, augmentation and input formatting steps"
   ]
  },
  {
   "cell_type": "code",
   "execution_count": 7,
   "metadata": {
    "scrolled": true
   },
   "outputs": [
    {
     "name": "stdout",
     "output_type": "stream",
     "text": [
      "Files already downloaded and verified\n",
      "Files already downloaded and verified\n"
     ]
    },
    {
     "name": "stderr",
     "output_type": "stream",
     "text": [
      "2021-04-07 12:29:54,777 pascal mixmo.loaders.abstract_loader[3935634] WARNING No validation loader\n"
     ]
    }
   ],
   "source": [
    "dloader = get_loader(\n",
    "    config_args, split_test_val=tempscale, dataplace=dataplace, corruptions=corruptions\n",
    ")"
   ]
  },
  {
   "cell_type": "markdown",
   "metadata": {},
   "source": [
    "## Load learner\n",
    "\n",
    "We now build the learner object that wraps both the model, optimizer and the already built loader objects. Training is performed through methods of this learner object."
   ]
  },
  {
   "cell_type": "code",
   "execution_count": 8,
   "metadata": {},
   "outputs": [
    {
     "name": "stderr",
     "output_type": "stream",
     "text": [
      "2021-04-07 12:29:54,784 pascal mixmo.networks[3935634] WARNING Loading network: wideresnetmixmo\n",
      "2021-04-07 12:30:08,154 pascal mixmo.networks.resnet[3935634] WARNING Features dimension: 640\n",
      "2021-04-07 12:30:10,753 pascal mixmo.core.loss[3935634] INFO Using loss: {'name': 'soft_cross_entropy', 'display_name': 'ce0', 'coeff': 1, 'input': 'logits_0', 'target': 'target_0'} with name: ce0\n",
      "2021-04-07 12:30:10,755 pascal mixmo.core.loss[3935634] INFO Using loss: {'name': 'soft_cross_entropy', 'display_name': 'ce1', 'coeff': 1.0, 'input': 'logits_1', 'target': 'target_1'} with name: ce1\n",
      "2021-04-07 12:30:10,755 pascal mixmo.core.loss[3935634] DEBUG Skip loss: {'name': 'soft_cross_entropy', 'display_name': 'ce2', 'coeff': 0, 'input': 'logits_2', 'target': 'target_2'}\n",
      "2021-04-07 12:30:10,756 pascal mixmo.core.loss[3935634] WARNING Set l2 regularization on WideResNetMixMo\n",
      "2021-04-07 12:30:10,757 pascal mixmo.core.optimizer[3935634] INFO Using optimizer sgd with params {'lr': 0.0125, 'momentum': 0.9, 'weight_decay': 0, 'nesterov': True}\n"
     ]
    },
    {
     "name": "stdout",
     "output_type": "stream",
     "text": [
      "----------------------------------------------------------------\n",
      "        Layer (type)               Output Shape         Param #\n",
      "================================================================\n",
      "            Conv2d-1            [2, 16, 32, 32]             432\n",
      "            Conv2d-2            [2, 16, 32, 32]             432\n",
      "       BatchNorm2d-3            [2, 16, 32, 32]              32\n",
      "            Conv2d-4           [2, 160, 32, 32]          23,040\n",
      "       BatchNorm2d-5           [2, 160, 32, 32]             320\n",
      "            Conv2d-6           [2, 160, 32, 32]         230,400\n",
      "            Conv2d-7           [2, 160, 32, 32]           2,560\n",
      "         WideBasic-8           [2, 160, 32, 32]               0\n",
      "       BatchNorm2d-9           [2, 160, 32, 32]             320\n",
      "           Conv2d-10           [2, 160, 32, 32]         230,400\n",
      "      BatchNorm2d-11           [2, 160, 32, 32]             320\n",
      "           Conv2d-12           [2, 160, 32, 32]         230,400\n",
      "        WideBasic-13           [2, 160, 32, 32]               0\n",
      "      BatchNorm2d-14           [2, 160, 32, 32]             320\n",
      "           Conv2d-15           [2, 160, 32, 32]         230,400\n",
      "      BatchNorm2d-16           [2, 160, 32, 32]             320\n",
      "           Conv2d-17           [2, 160, 32, 32]         230,400\n",
      "        WideBasic-18           [2, 160, 32, 32]               0\n",
      "      BatchNorm2d-19           [2, 160, 32, 32]             320\n",
      "           Conv2d-20           [2, 160, 32, 32]         230,400\n",
      "      BatchNorm2d-21           [2, 160, 32, 32]             320\n",
      "           Conv2d-22           [2, 160, 32, 32]         230,400\n",
      "        WideBasic-23           [2, 160, 32, 32]               0\n",
      "      BatchNorm2d-24           [2, 160, 32, 32]             320\n",
      "           Conv2d-25           [2, 320, 32, 32]         460,800\n",
      "      BatchNorm2d-26           [2, 320, 32, 32]             640\n",
      "        ZeroPad2d-27           [2, 320, 33, 33]               0\n",
      "           Conv2d-28           [2, 320, 16, 16]         921,600\n",
      "           Conv2d-29           [2, 320, 16, 16]          51,200\n",
      "        WideBasic-30           [2, 320, 16, 16]               0\n",
      "      BatchNorm2d-31           [2, 320, 16, 16]             640\n",
      "           Conv2d-32           [2, 320, 16, 16]         921,600\n",
      "      BatchNorm2d-33           [2, 320, 16, 16]             640\n",
      "           Conv2d-34           [2, 320, 16, 16]         921,600\n",
      "        WideBasic-35           [2, 320, 16, 16]               0\n",
      "      BatchNorm2d-36           [2, 320, 16, 16]             640\n",
      "           Conv2d-37           [2, 320, 16, 16]         921,600\n",
      "      BatchNorm2d-38           [2, 320, 16, 16]             640\n",
      "           Conv2d-39           [2, 320, 16, 16]         921,600\n",
      "        WideBasic-40           [2, 320, 16, 16]               0\n",
      "      BatchNorm2d-41           [2, 320, 16, 16]             640\n",
      "           Conv2d-42           [2, 320, 16, 16]         921,600\n",
      "      BatchNorm2d-43           [2, 320, 16, 16]             640\n",
      "           Conv2d-44           [2, 320, 16, 16]         921,600\n",
      "        WideBasic-45           [2, 320, 16, 16]               0\n",
      "      BatchNorm2d-46           [2, 320, 16, 16]             640\n",
      "           Conv2d-47           [2, 640, 16, 16]       1,843,200\n",
      "      BatchNorm2d-48           [2, 640, 16, 16]           1,280\n",
      "        ZeroPad2d-49           [2, 640, 17, 17]               0\n",
      "           Conv2d-50             [2, 640, 8, 8]       3,686,400\n",
      "           Conv2d-51             [2, 640, 8, 8]         204,800\n",
      "        WideBasic-52             [2, 640, 8, 8]               0\n",
      "      BatchNorm2d-53             [2, 640, 8, 8]           1,280\n",
      "           Conv2d-54             [2, 640, 8, 8]       3,686,400\n",
      "      BatchNorm2d-55             [2, 640, 8, 8]           1,280\n",
      "           Conv2d-56             [2, 640, 8, 8]       3,686,400\n",
      "        WideBasic-57             [2, 640, 8, 8]               0\n",
      "      BatchNorm2d-58             [2, 640, 8, 8]           1,280\n",
      "           Conv2d-59             [2, 640, 8, 8]       3,686,400\n",
      "      BatchNorm2d-60             [2, 640, 8, 8]           1,280\n",
      "           Conv2d-61             [2, 640, 8, 8]       3,686,400\n",
      "        WideBasic-62             [2, 640, 8, 8]               0\n",
      "      BatchNorm2d-63             [2, 640, 8, 8]           1,280\n",
      "           Conv2d-64             [2, 640, 8, 8]       3,686,400\n",
      "      BatchNorm2d-65             [2, 640, 8, 8]           1,280\n",
      "           Conv2d-66             [2, 640, 8, 8]       3,686,400\n",
      "        WideBasic-67             [2, 640, 8, 8]               0\n",
      "      BatchNorm2d-68             [2, 640, 8, 8]           1,280\n",
      "AdaptiveAvgPool2d-69             [2, 640, 1, 1]               0\n",
      "           Linear-70                   [2, 100]          64,100\n",
      "           Linear-71                   [2, 100]          64,100\n",
      "================================================================\n",
      "Total params: 36,601,416\n",
      "Trainable params: 36,601,416\n",
      "Non-trainable params: 0\n",
      "----------------------------------------------------------------\n",
      "Input size (MB): 0.05\n",
      "Forward/backward pass size (MB): 112.03\n",
      "Params size (MB): 139.62\n",
      "Estimated Total Size (MB): 251.70\n",
      "----------------------------------------------------------------\n"
     ]
    }
   ],
   "source": [
    "learner = Learner(\n",
    "    config_args=config_args,\n",
    "    dloader=dloader,\n",
    "    device=device,\n",
    ")"
   ]
  },
  {
   "cell_type": "markdown",
   "metadata": {},
   "source": [
    "## Load checkpoint"
   ]
  },
  {
   "cell_type": "code",
   "execution_count": 9,
   "metadata": {},
   "outputs": [],
   "source": [
    "learner.load_checkpoint(checkpoint, include_optimizer=False)"
   ]
  },
  {
   "cell_type": "markdown",
   "metadata": {},
   "source": [
    "# Model evaluation\n",
    "\n",
    "Model evaluation is generally done by the learner object as shown at the end of this notebook. It is nevertheless possible to break down the process explicitly.\n",
    "\n",
    "## Batch by batch\n",
    "\n",
    "The dataloader object can be retrieved from the loader, though objects returned by the dataloader follow a specific formatting convention."
   ]
  },
  {
   "cell_type": "code",
   "execution_count": 10,
   "metadata": {},
   "outputs": [
    {
     "data": {
      "image/png": "[encoded data removed]",
      "text/plain": [
       "<Figure size 432x288 with 1 Axes>"
      ]
     },
     "metadata": {
      "needs_background": "light"
     },
     "output_type": "display_data"
    }
   ],
   "source": [
    "data = next(iter(learner.dloader.test_loader))\n",
    "dict_tensors = learner._prepare_batch_test(data)\n",
    "class_id = 71\n",
    "pixels_filtered = dict_tensors[\"pixels\"].cpu()[\n",
    "    dict_tensors[\"target\"][\"target_0\"] == class_id, :3]\n",
    "_ = visualize.show_batch(pixels_filtered)"
   ]
  },
  {
   "cell_type": "markdown",
   "metadata": {},
   "source": [
    "After some slight reformatting (normally performed by the learner internally) we can feed the batch to the network and retrieve logits for the batch."
   ]
  },
  {
   "cell_type": "code",
   "execution_count": 11,
   "metadata": {},
   "outputs": [
    {
     "name": "stdout",
     "output_type": "stream",
     "text": [
      "torch.return_types.max(\n",
      "values=tensor([10.4478,  6.4189, 12.4999], device='cuda:0', grad_fn=<MaxBackward0>),\n",
      "indices=tensor([71, 59, 71], device='cuda:0'))\n"
     ]
    }
   ],
   "source": [
    "output = learner.model_wrapper.network(\n",
    "    {\n",
    "        \"pixels\": pixels_filtered.to(device),\n",
    "        \"metadata\": dict_tensors[\"metadata\"]\n",
    "    }\n",
    ")\n",
    "print(output[\"logits\"].max(dim=1))"
   ]
  },
  {
   "cell_type": "markdown",
   "metadata": {},
   "source": [
    "## Predict on the full test set using the learner"
   ]
  },
  {
   "cell_type": "code",
   "execution_count": 12,
   "metadata": {},
   "outputs": [
    {
     "name": "stderr",
     "output_type": "stream",
     "text": [
      "Evaluation: 100%|██████████| 157/157 [00:09<00:00, 16.47it/s]\n",
      "2021-04-07 12:30:21,105 pascal mixmo.learners.model_wrapper[3935634] INFO Compute metrics for classifier at split: final\n"
     ]
    },
    {
     "name": "stdout",
     "output_type": "stream",
     "text": [
      "\n",
      "########################################\n",
      "final/accuracy               85.92%\n",
      "final/accuracy_0             84.29%\n",
      "final/accuracy_1             83.88%\n",
      "final/accuracy_mean          84.08%\n",
      "final/accuracytop5           97.36%\n",
      "final/auc                    0.9\n",
      "final/brier                  0.00205044\n",
      "final/ce0                    0.58707\n",
      "final/ce1                    0.60689\n",
      "final/diversity_ratioerrors  0.86241\n",
      "final/ece                    0.0228678\n",
      "final/main                   2.2717\n",
      "final/nll                    0.518282\n",
      "general/l2_reg               3.592e+03\n",
      "########################################\n",
      "\n"
     ]
    }
   ],
   "source": [
    "scores = learner.evaluate(\n",
    "    inference_loader=dloader.test_loader,\n",
    "    split=\"final\",\n",
    ")\n",
    "misc.print_dict(scores)"
   ]
  }
 ],
 "metadata": {
  "kernelspec": {
   "display_name": "Python ensembling",
   "language": "python",
   "name": "ensembling"
  },
  "language_info": {
   "codemirror_mode": {
    "name": "ipython",
    "version": 3
   },
   "file_extension": ".py",
   "mimetype": "text/x-python",
   "name": "python",
   "nbconvert_exporter": "python",
   "pygments_lexer": "ipython3",
   "version": "3.6.10"
  }
 },
 "nbformat": 4,
 "nbformat_minor": 4
}
